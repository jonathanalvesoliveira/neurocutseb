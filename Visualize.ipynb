{
 "cells": [
  {
   "cell_type": "code",
   "execution_count": 1,
   "metadata": {},
   "outputs": [],
   "source": [
    "import os\n",
    "import json\n",
    "import math\n",
    "import numpy as np\n",
    "import matplotlib.pyplot as plt\n",
    "import pickle\n",
    "\n",
    "import tensorflow as tf\n",
    "import ray\n",
    "from ray import tune\n",
    "from ray.rllib.agents.ppo import PPOAgent\n",
    "from neurocuts_env import NeuroCutsEnv\n",
    "from run_neurocuts import on_episode_end\n",
    "from ray.tune.registry import register_env\n",
    "from ray.rllib.models import ModelCatalog\n",
    "from mask import PartitionMaskModel\n",
    "from tree import Node\n",
    "from tree import load_rules_from_file\n",
    "\n",
    "%load_ext autoreload\n",
    "%autoreload 2"
   ]
  },
  {
   "cell_type": "code",
   "execution_count": 2,
   "metadata": {},
   "outputs": [
    {
     "name": "stderr",
     "output_type": "stream",
     "text": [
      "2020-05-08 23:32:43,263\tWARNING services.py:597 -- setpgrp failed, processes may not be cleaned up properly: [Errno 1] Operation not permitted.\n",
      "2020-05-08 23:32:43,301\tINFO resource_spec.py:216 -- Starting Ray with 15.38 GiB memory available for workers and up to 7.7 GiB for objects. You can adjust these settings with ray.init(memory=<bytes>, object_store_memory=<bytes>).\n"
     ]
    },
    {
     "data": {
      "text/plain": [
       "{'node_ip_address': '192.168.0.28',\n",
       " 'redis_address': '192.168.0.28:60462',\n",
       " 'object_store_address': '/tmp/ray/session_2020-05-08_23-32-43_262970_14320/sockets/plasma_store',\n",
       " 'raylet_socket_name': '/tmp/ray/session_2020-05-08_23-32-43_262970_14320/sockets/raylet',\n",
       " 'webui_url': None,\n",
       " 'session_dir': '/tmp/ray/session_2020-05-08_23-32-43_262970_14320'}"
      ]
     },
     "execution_count": 2,
     "metadata": {},
     "output_type": "execute_result"
    }
   ],
   "source": [
    "### Init ###\n",
    "ray.init()"
   ]
  },
  {
   "cell_type": "code",
   "execution_count": 3,
   "metadata": {},
   "outputs": [],
   "source": [
    "rules = os.path.abspath(\"neurocuts-master/classbench/{}\".format(\"acl5_1k\"))\n",
    "dump_dir = \"/tmp/neurocuts_out\"\n",
    "reward_shape = \"linear\""
   ]
  },
  {
   "cell_type": "code",
   "execution_count": 4,
   "metadata": {},
   "outputs": [
    {
     "name": "stderr",
     "output_type": "stream",
     "text": [
      "2020-05-08 23:33:57,484\tWARNING sample.py:31 -- DeprecationWarning: wrapping <function on_episode_end at 0x7f1f8c55add0> with tune.function() is no longer needed\n"
     ]
    }
   ],
   "source": [
    "### Setup ###\n",
    "register_env(\n",
    "    \"tree_env\", lambda env_config: NeuroCutsEnv(\n",
    "        env_config[\"rules\"],\n",
    "        max_depth=env_config[\"max_depth\"],\n",
    "        max_actions_per_episode=env_config[\"max_actions\"],\n",
    "        dump_dir=env_config[\"dump_dir\"],\n",
    "        depth_weight=env_config[\"depth_weight\"],\n",
    "        reward_shape=env_config[\"reward_shape\"],\n",
    "        partition_mode=env_config[\"partition_mode\"]))\n",
    "ModelCatalog.register_custom_model(\"mask\", PartitionMaskModel)\n",
    "\n",
    "config =  {\n",
    "        \"num_gpus\": 0,\n",
    "        \"num_workers\": 3,\n",
    "        \"sgd_minibatch_size\": 100,\n",
    "        \"sample_batch_size\": 200,\n",
    "        \"train_batch_size\": 1000,\n",
    "        \"batch_mode\": \"complete_episodes\",\n",
    "        \"observation_filter\": \"NoFilter\",\n",
    "        \"model\": {\n",
    "            \"custom_model\": \"mask\",\n",
    "            \"fcnet_hiddens\": [512, 512],\n",
    "        },\n",
    "        \"vf_share_layers\": True,\n",
    "        \"entropy_coeff\": 0.01,\n",
    "        \"callbacks\": {\n",
    "            \"on_episode_end\": tune.function(on_episode_end),\n",
    "        },\n",
    "        \"env_config\": {\n",
    "            \"dump_dir\": dump_dir,\n",
    "            \"partition_mode\": None,\n",
    "            \"reward_shape\": reward_shape,\n",
    "            \"max_depth\": 100,\n",
    "            \"max_actions\": 1000,\n",
    "            \"depth_weight\": 1.0,\n",
    "            \"rules\": rules,\n",
    "        },\n",
    "    }"
   ]
  },
  {
   "cell_type": "code",
   "execution_count": 9,
   "metadata": {},
   "outputs": [
    {
     "name": "stderr",
     "output_type": "stream",
     "text": [
      "/home/jaaoliveira/anaconda3/envs/tf-gpu/lib/python3.7/site-packages/gym/logger.py:30: UserWarning: \u001b[33mWARN: Box bound precision lowered by casting to float32\u001b[0m\n",
      "  warnings.warn(colorize('%s: %s'%('WARN', msg % args), 'yellow'))\n",
      "2020-05-08 23:37:27,911\tWARNING __init__.py:54 -- DeprecationWarning: PPO has been renamed to ray.rllib.agents.trainer_template.PPO. This will raise an error in the future.\n",
      "/home/jaaoliveira/anaconda3/envs/tf-gpu/lib/python3.7/site-packages/gym/logger.py:30: UserWarning: \u001b[33mWARN: Box bound precision lowered by casting to float32\u001b[0m\n",
      "  warnings.warn(colorize('%s: %s'%('WARN', msg % args), 'yellow'))\n",
      "/home/jaaoliveira/anaconda3/envs/tf-gpu/lib/python3.7/site-packages/gym/logger.py:30: UserWarning: \u001b[33mWARN: Box bound precision lowered by casting to float32\u001b[0m\n",
      "  warnings.warn(colorize('%s: %s'%('WARN', msg % args), 'yellow'))\n"
     ]
    },
    {
     "name": "stdout",
     "output_type": "stream",
     "text": [
      "\u001b[2m\u001b[36m(pid=15575)\u001b[0m /home/jaaoliveira/anaconda3/envs/tf-gpu/lib/python3.7/site-packages/gym/logger.py:30: UserWarning: \u001b[33mWARN: Box bound precision lowered by casting to float32\u001b[0m\n",
      "\u001b[2m\u001b[36m(pid=15575)\u001b[0m   warnings.warn(colorize('%s: %s'%('WARN', msg % args), 'yellow'))\n",
      "\u001b[2m\u001b[36m(pid=15573)\u001b[0m /home/jaaoliveira/anaconda3/envs/tf-gpu/lib/python3.7/site-packages/gym/logger.py:30: UserWarning: \u001b[33mWARN: Box bound precision lowered by casting to float32\u001b[0m\n",
      "\u001b[2m\u001b[36m(pid=15573)\u001b[0m   warnings.warn(colorize('%s: %s'%('WARN', msg % args), 'yellow'))\n",
      "\u001b[2m\u001b[36m(pid=15580)\u001b[0m /home/jaaoliveira/anaconda3/envs/tf-gpu/lib/python3.7/site-packages/gym/logger.py:30: UserWarning: \u001b[33mWARN: Box bound precision lowered by casting to float32\u001b[0m\n",
      "\u001b[2m\u001b[36m(pid=15580)\u001b[0m   warnings.warn(colorize('%s: %s'%('WARN', msg % args), 'yellow'))\n"
     ]
    },
    {
     "name": "stderr",
     "output_type": "stream",
     "text": [
      "2020-05-08 23:37:32,734\tINFO trainable.py:346 -- Restored from checkpoint: /home/jaaoliveira/ray_results/neurocuts_None/PPO_tree_env_33c83386_2020-05-08_23-21-41637am38c/checkpoint_51/checkpoint-51\n",
      "2020-05-08 23:37:32,735\tINFO trainable.py:353 -- Current state after restoring: {'_iteration': 51, '_timesteps_total': 100292, '_time_total': 498.8530025482178, '_episodes_total': 1187}\n"
     ]
    },
    {
     "name": "stdout",
     "output_type": "stream",
     "text": [
      "\u001b[2m\u001b[36m(pid=15579)\u001b[0m /home/jaaoliveira/anaconda3/envs/tf-gpu/lib/python3.7/site-packages/gym/logger.py:30: UserWarning: \u001b[33mWARN: Box bound precision lowered by casting to float32\u001b[0m\n",
      "\u001b[2m\u001b[36m(pid=15579)\u001b[0m   warnings.warn(colorize('%s: %s'%('WARN', msg % args), 'yellow'))\n"
     ]
    }
   ],
   "source": [
    "file = \"/home/jaaoliveira/ray_results/neurocuts_None/PPO_tree_env_33c83386_2020-05-08_23-21-41637am38c/checkpoint_51/checkpoint-51\"\n",
    "env = NeuroCutsEnv(rules_file=rules)\n",
    "agent = PPOAgent(env=\"tree_env\", config=config)\n",
    "agent.restore(file)"
   ]
  },
  {
   "cell_type": "code",
   "execution_count": 34,
   "metadata": {},
   "outputs": [
    {
     "name": "stderr",
     "output_type": "stream",
     "text": [
      "2019-03-30 10:04:00,561\tINFO policy_evaluator.py:275 -- Creating policy evaluation worker 0 on CPU (please ignore any CUDA init errors)\n"
     ]
    },
    {
     "name": "stdout",
     "output_type": "stream",
     "text": [
      "WARNING:tensorflow:From /Users/yitianzou/anaconda3/lib/python3.7/site-packages/tensorflow/python/framework/op_def_library.py:263: colocate_with (from tensorflow.python.framework.ops) is deprecated and will be removed in a future version.\n",
      "Instructions for updating:\n",
      "Colocations handled automatically by placer.\n",
      "WARNING:tensorflow:From /Users/yitianzou/anaconda3/lib/python3.7/site-packages/ray/rllib/models/action_dist.py:114: multinomial (from tensorflow.python.ops.random_ops) is deprecated and will be removed in a future version.\n",
      "Instructions for updating:\n",
      "Use tf.random.categorical instead.\n",
      "WARNING:tensorflow:From /Users/yitianzou/anaconda3/lib/python3.7/site-packages/tensorflow/python/ops/array_grad.py:425: to_int32 (from tensorflow.python.ops.math_ops) is deprecated and will be removed in a future version.\n",
      "Instructions for updating:\n",
      "Use tf.cast instead.\n"
     ]
    },
    {
     "name": "stderr",
     "output_type": "stream",
     "text": [
      "/Users/yitianzou/anaconda3/lib/python3.7/site-packages/tensorflow/python/ops/gradients_impl.py:110: UserWarning: Converting sparse IndexedSlices to a dense Tensor of unknown shape. This may consume a large amount of memory.\n",
      "  \"Converting sparse IndexedSlices to a dense Tensor of unknown shape. \"\n"
     ]
    },
    {
     "name": "stdout",
     "output_type": "stream",
     "text": [
      "WARNING:tensorflow:From /Users/yitianzou/anaconda3/lib/python3.7/site-packages/tensorflow/python/ops/math_grad.py:102: div (from tensorflow.python.ops.math_ops) is deprecated and will be removed in a future version.\n",
      "Instructions for updating:\n",
      "Deprecated in favor of operator or tf.math.divide.\n"
     ]
    },
    {
     "name": "stderr",
     "output_type": "stream",
     "text": [
      "2019-03-30 10:04:01,628\tINFO multi_gpu_optimizer.py:74 -- LocalMultiGPUOptimizer devices ['/cpu:0']\n"
     ]
    },
    {
     "name": "stdout",
     "output_type": "stream",
     "text": [
      "\u001b[2m\u001b[36m(pid=98106)\u001b[0m 2019-03-30 10:04:06,439\tINFO policy_evaluator.py:275 -- Creating policy evaluation worker 1 on CPU (please ignore any CUDA init errors)\n",
      "\u001b[2m\u001b[36m(pid=98106)\u001b[0m 2019-03-30 10:04:06.440239: I tensorflow/core/platform/cpu_feature_guard.cc:141] Your CPU supports instructions that this TensorFlow binary was not compiled to use: AVX2 FMA\n",
      "\u001b[2m\u001b[36m(pid=98100)\u001b[0m 2019-03-30 10:04:06,439\tINFO policy_evaluator.py:275 -- Creating policy evaluation worker 3 on CPU (please ignore any CUDA init errors)\n",
      "\u001b[2m\u001b[36m(pid=98100)\u001b[0m 2019-03-30 10:04:06.440425: I tensorflow/core/platform/cpu_feature_guard.cc:141] Your CPU supports instructions that this TensorFlow binary was not compiled to use: AVX2 FMA\n",
      "\u001b[2m\u001b[36m(pid=98101)\u001b[0m 2019-03-30 10:04:06,438\tINFO policy_evaluator.py:275 -- Creating policy evaluation worker 2 on CPU (please ignore any CUDA init errors)\n",
      "\u001b[2m\u001b[36m(pid=98101)\u001b[0m 2019-03-30 10:04:06.440439: I tensorflow/core/platform/cpu_feature_guard.cc:141] Your CPU supports instructions that this TensorFlow binary was not compiled to use: AVX2 FMA\n",
      "\u001b[2m\u001b[36m(pid=98106)\u001b[0m WARNING:tensorflow:From /Users/yitianzou/anaconda3/lib/python3.7/site-packages/tensorflow/python/framework/op_def_library.py:263: colocate_with (from tensorflow.python.framework.ops) is deprecated and will be removed in a future version.\n",
      "\u001b[2m\u001b[36m(pid=98106)\u001b[0m Instructions for updating:\n",
      "\u001b[2m\u001b[36m(pid=98106)\u001b[0m Colocations handled automatically by placer.\n",
      "\u001b[2m\u001b[36m(pid=98100)\u001b[0m WARNING:tensorflow:From /Users/yitianzou/anaconda3/lib/python3.7/site-packages/tensorflow/python/framework/op_def_library.py:263: colocate_with (from tensorflow.python.framework.ops) is deprecated and will be removed in a future version.\n",
      "\u001b[2m\u001b[36m(pid=98100)\u001b[0m Instructions for updating:\n",
      "\u001b[2m\u001b[36m(pid=98100)\u001b[0m Colocations handled automatically by placer.\n",
      "\u001b[2m\u001b[36m(pid=98101)\u001b[0m WARNING:tensorflow:From /Users/yitianzou/anaconda3/lib/python3.7/site-packages/tensorflow/python/framework/op_def_library.py:263: colocate_with (from tensorflow.python.framework.ops) is deprecated and will be removed in a future version.\n",
      "\u001b[2m\u001b[36m(pid=98101)\u001b[0m Instructions for updating:\n",
      "\u001b[2m\u001b[36m(pid=98101)\u001b[0m Colocations handled automatically by placer.\n",
      "\u001b[2m\u001b[36m(pid=98106)\u001b[0m WARNING:tensorflow:From /Users/yitianzou/anaconda3/lib/python3.7/site-packages/ray/rllib/models/action_dist.py:114: multinomial (from tensorflow.python.ops.random_ops) is deprecated and will be removed in a future version.\n",
      "\u001b[2m\u001b[36m(pid=98106)\u001b[0m Instructions for updating:\n",
      "\u001b[2m\u001b[36m(pid=98106)\u001b[0m Use tf.random.categorical instead.\n",
      "\u001b[2m\u001b[36m(pid=98100)\u001b[0m WARNING:tensorflow:From /Users/yitianzou/anaconda3/lib/python3.7/site-packages/ray/rllib/models/action_dist.py:114: multinomial (from tensorflow.python.ops.random_ops) is deprecated and will be removed in a future version.\n",
      "\u001b[2m\u001b[36m(pid=98100)\u001b[0m Instructions for updating:\n",
      "\u001b[2m\u001b[36m(pid=98100)\u001b[0m Use tf.random.categorical instead.\n",
      "\u001b[2m\u001b[36m(pid=98101)\u001b[0m WARNING:tensorflow:From /Users/yitianzou/anaconda3/lib/python3.7/site-packages/ray/rllib/models/action_dist.py:114: multinomial (from tensorflow.python.ops.random_ops) is deprecated and will be removed in a future version.\n",
      "\u001b[2m\u001b[36m(pid=98101)\u001b[0m Instructions for updating:\n",
      "\u001b[2m\u001b[36m(pid=98101)\u001b[0m Use tf.random.categorical instead.\n",
      "\u001b[2m\u001b[36m(pid=98106)\u001b[0m WARNING:tensorflow:From /Users/yitianzou/anaconda3/lib/python3.7/site-packages/tensorflow/python/ops/array_grad.py:425: to_int32 (from tensorflow.python.ops.math_ops) is deprecated and will be removed in a future version.\n",
      "\u001b[2m\u001b[36m(pid=98106)\u001b[0m Instructions for updating:\n",
      "\u001b[2m\u001b[36m(pid=98106)\u001b[0m Use tf.cast instead.\n",
      "\u001b[2m\u001b[36m(pid=98106)\u001b[0m /Users/yitianzou/anaconda3/lib/python3.7/site-packages/tensorflow/python/ops/gradients_impl.py:110: UserWarning: Converting sparse IndexedSlices to a dense Tensor of unknown shape. This may consume a large amount of memory.\n",
      "\u001b[2m\u001b[36m(pid=98106)\u001b[0m   \"Converting sparse IndexedSlices to a dense Tensor of unknown shape. \"\n",
      "\u001b[2m\u001b[36m(pid=98100)\u001b[0m WARNING:tensorflow:From /Users/yitianzou/anaconda3/lib/python3.7/site-packages/tensorflow/python/ops/array_grad.py:425: to_int32 (from tensorflow.python.ops.math_ops) is deprecated and will be removed in a future version.\n",
      "\u001b[2m\u001b[36m(pid=98100)\u001b[0m Instructions for updating:\n",
      "\u001b[2m\u001b[36m(pid=98100)\u001b[0m Use tf.cast instead.\n",
      "\u001b[2m\u001b[36m(pid=98100)\u001b[0m /Users/yitianzou/anaconda3/lib/python3.7/site-packages/tensorflow/python/ops/gradients_impl.py:110: UserWarning: Converting sparse IndexedSlices to a dense Tensor of unknown shape. This may consume a large amount of memory.\n",
      "\u001b[2m\u001b[36m(pid=98100)\u001b[0m   \"Converting sparse IndexedSlices to a dense Tensor of unknown shape. \"\n",
      "\u001b[2m\u001b[36m(pid=98101)\u001b[0m WARNING:tensorflow:From /Users/yitianzou/anaconda3/lib/python3.7/site-packages/tensorflow/python/ops/array_grad.py:425: to_int32 (from tensorflow.python.ops.math_ops) is deprecated and will be removed in a future version.\n",
      "\u001b[2m\u001b[36m(pid=98101)\u001b[0m Instructions for updating:\n",
      "\u001b[2m\u001b[36m(pid=98101)\u001b[0m Use tf.cast instead.\n",
      "\u001b[2m\u001b[36m(pid=98101)\u001b[0m /Users/yitianzou/anaconda3/lib/python3.7/site-packages/tensorflow/python/ops/gradients_impl.py:110: UserWarning: Converting sparse IndexedSlices to a dense Tensor of unknown shape. This may consume a large amount of memory.\n",
      "\u001b[2m\u001b[36m(pid=98101)\u001b[0m   \"Converting sparse IndexedSlices to a dense Tensor of unknown shape. \"\n"
     ]
    },
    {
     "name": "stderr",
     "output_type": "stream",
     "text": [
      "2019-03-30 10:04:06,949\tINFO policy_evaluator.py:275 -- Creating policy evaluation worker 0 on CPU (please ignore any CUDA init errors)\n"
     ]
    },
    {
     "name": "stdout",
     "output_type": "stream",
     "text": [
      "\u001b[2m\u001b[36m(pid=98106)\u001b[0m WARNING:tensorflow:From /Users/yitianzou/anaconda3/lib/python3.7/site-packages/tensorflow/python/ops/math_grad.py:102: div (from tensorflow.python.ops.math_ops) is deprecated and will be removed in a future version.\n",
      "\u001b[2m\u001b[36m(pid=98106)\u001b[0m Instructions for updating:\n",
      "\u001b[2m\u001b[36m(pid=98106)\u001b[0m Deprecated in favor of operator or tf.math.divide.\n",
      "\u001b[2m\u001b[36m(pid=98100)\u001b[0m WARNING:tensorflow:From /Users/yitianzou/anaconda3/lib/python3.7/site-packages/tensorflow/python/ops/math_grad.py:102: div (from tensorflow.python.ops.math_ops) is deprecated and will be removed in a future version.\n",
      "\u001b[2m\u001b[36m(pid=98100)\u001b[0m Instructions for updating:\n",
      "\u001b[2m\u001b[36m(pid=98100)\u001b[0m Deprecated in favor of operator or tf.math.divide.\n",
      "\u001b[2m\u001b[36m(pid=98101)\u001b[0m WARNING:tensorflow:From /Users/yitianzou/anaconda3/lib/python3.7/site-packages/tensorflow/python/ops/math_grad.py:102: div (from tensorflow.python.ops.math_ops) is deprecated and will be removed in a future version.\n",
      "\u001b[2m\u001b[36m(pid=98101)\u001b[0m Instructions for updating:\n",
      "\u001b[2m\u001b[36m(pid=98101)\u001b[0m Deprecated in favor of operator or tf.math.divide.\n"
     ]
    },
    {
     "name": "stderr",
     "output_type": "stream",
     "text": [
      "2019-03-30 10:04:08,229\tINFO multi_gpu_optimizer.py:74 -- LocalMultiGPUOptimizer devices ['/cpu:0']\n"
     ]
    },
    {
     "name": "stdout",
     "output_type": "stream",
     "text": [
      "\u001b[2m\u001b[36m(pid=98102)\u001b[0m 2019-03-30 10:04:09,768\tINFO policy_evaluator.py:275 -- Creating policy evaluation worker 1 on CPU (please ignore any CUDA init errors)\n",
      "\u001b[2m\u001b[36m(pid=98102)\u001b[0m 2019-03-30 10:04:09.770128: I tensorflow/core/platform/cpu_feature_guard.cc:141] Your CPU supports instructions that this TensorFlow binary was not compiled to use: AVX2 FMA\n",
      "\u001b[2m\u001b[36m(pid=98104)\u001b[0m 2019-03-30 10:04:09,772\tINFO policy_evaluator.py:275 -- Creating policy evaluation worker 3 on CPU (please ignore any CUDA init errors)\n",
      "\u001b[2m\u001b[36m(pid=98104)\u001b[0m 2019-03-30 10:04:09.774281: I tensorflow/core/platform/cpu_feature_guard.cc:141] Your CPU supports instructions that this TensorFlow binary was not compiled to use: AVX2 FMA\n",
      "\u001b[2m\u001b[36m(pid=98103)\u001b[0m 2019-03-30 10:04:09,765\tINFO policy_evaluator.py:275 -- Creating policy evaluation worker 2 on CPU (please ignore any CUDA init errors)\n",
      "\u001b[2m\u001b[36m(pid=98103)\u001b[0m 2019-03-30 10:04:09.767237: I tensorflow/core/platform/cpu_feature_guard.cc:141] Your CPU supports instructions that this TensorFlow binary was not compiled to use: AVX2 FMA\n",
      "\u001b[2m\u001b[36m(pid=98102)\u001b[0m WARNING:tensorflow:From /Users/yitianzou/anaconda3/lib/python3.7/site-packages/tensorflow/python/framework/op_def_library.py:263: colocate_with (from tensorflow.python.framework.ops) is deprecated and will be removed in a future version.\n",
      "\u001b[2m\u001b[36m(pid=98102)\u001b[0m Instructions for updating:\n",
      "\u001b[2m\u001b[36m(pid=98102)\u001b[0m Colocations handled automatically by placer.\n",
      "\u001b[2m\u001b[36m(pid=98104)\u001b[0m WARNING:tensorflow:From /Users/yitianzou/anaconda3/lib/python3.7/site-packages/tensorflow/python/framework/op_def_library.py:263: colocate_with (from tensorflow.python.framework.ops) is deprecated and will be removed in a future version.\n",
      "\u001b[2m\u001b[36m(pid=98104)\u001b[0m Instructions for updating:\n",
      "\u001b[2m\u001b[36m(pid=98104)\u001b[0m Colocations handled automatically by placer.\n",
      "\u001b[2m\u001b[36m(pid=98103)\u001b[0m WARNING:tensorflow:From /Users/yitianzou/anaconda3/lib/python3.7/site-packages/tensorflow/python/framework/op_def_library.py:263: colocate_with (from tensorflow.python.framework.ops) is deprecated and will be removed in a future version.\n",
      "\u001b[2m\u001b[36m(pid=98103)\u001b[0m Instructions for updating:\n",
      "\u001b[2m\u001b[36m(pid=98103)\u001b[0m Colocations handled automatically by placer.\n",
      "\u001b[2m\u001b[36m(pid=98102)\u001b[0m WARNING:tensorflow:From /Users/yitianzou/anaconda3/lib/python3.7/site-packages/ray/rllib/models/action_dist.py:114: multinomial (from tensorflow.python.ops.random_ops) is deprecated and will be removed in a future version.\n",
      "\u001b[2m\u001b[36m(pid=98102)\u001b[0m Instructions for updating:\n",
      "\u001b[2m\u001b[36m(pid=98102)\u001b[0m Use tf.random.categorical instead.\n",
      "\u001b[2m\u001b[36m(pid=98104)\u001b[0m WARNING:tensorflow:From /Users/yitianzou/anaconda3/lib/python3.7/site-packages/ray/rllib/models/action_dist.py:114: multinomial (from tensorflow.python.ops.random_ops) is deprecated and will be removed in a future version.\n",
      "\u001b[2m\u001b[36m(pid=98104)\u001b[0m Instructions for updating:\n",
      "\u001b[2m\u001b[36m(pid=98104)\u001b[0m Use tf.random.categorical instead.\n",
      "\u001b[2m\u001b[36m(pid=98103)\u001b[0m WARNING:tensorflow:From /Users/yitianzou/anaconda3/lib/python3.7/site-packages/ray/rllib/models/action_dist.py:114: multinomial (from tensorflow.python.ops.random_ops) is deprecated and will be removed in a future version.\n",
      "\u001b[2m\u001b[36m(pid=98103)\u001b[0m Instructions for updating:\n",
      "\u001b[2m\u001b[36m(pid=98103)\u001b[0m Use tf.random.categorical instead.\n",
      "\u001b[2m\u001b[36m(pid=98102)\u001b[0m WARNING:tensorflow:From /Users/yitianzou/anaconda3/lib/python3.7/site-packages/tensorflow/python/ops/array_grad.py:425: to_int32 (from tensorflow.python.ops.math_ops) is deprecated and will be removed in a future version.\n",
      "\u001b[2m\u001b[36m(pid=98102)\u001b[0m Instructions for updating:\n",
      "\u001b[2m\u001b[36m(pid=98102)\u001b[0m Use tf.cast instead.\n",
      "\u001b[2m\u001b[36m(pid=98102)\u001b[0m /Users/yitianzou/anaconda3/lib/python3.7/site-packages/tensorflow/python/ops/gradients_impl.py:110: UserWarning: Converting sparse IndexedSlices to a dense Tensor of unknown shape. This may consume a large amount of memory.\n",
      "\u001b[2m\u001b[36m(pid=98102)\u001b[0m   \"Converting sparse IndexedSlices to a dense Tensor of unknown shape. \"\n",
      "\u001b[2m\u001b[36m(pid=98104)\u001b[0m WARNING:tensorflow:From /Users/yitianzou/anaconda3/lib/python3.7/site-packages/tensorflow/python/ops/array_grad.py:425: to_int32 (from tensorflow.python.ops.math_ops) is deprecated and will be removed in a future version.\n",
      "\u001b[2m\u001b[36m(pid=98104)\u001b[0m Instructions for updating:\n",
      "\u001b[2m\u001b[36m(pid=98104)\u001b[0m Use tf.cast instead.\n",
      "\u001b[2m\u001b[36m(pid=98104)\u001b[0m /Users/yitianzou/anaconda3/lib/python3.7/site-packages/tensorflow/python/ops/gradients_impl.py:110: UserWarning: Converting sparse IndexedSlices to a dense Tensor of unknown shape. This may consume a large amount of memory.\n",
      "\u001b[2m\u001b[36m(pid=98104)\u001b[0m   \"Converting sparse IndexedSlices to a dense Tensor of unknown shape. \"\n",
      "\u001b[2m\u001b[36m(pid=98103)\u001b[0m WARNING:tensorflow:From /Users/yitianzou/anaconda3/lib/python3.7/site-packages/tensorflow/python/ops/array_grad.py:425: to_int32 (from tensorflow.python.ops.math_ops) is deprecated and will be removed in a future version.\n",
      "\u001b[2m\u001b[36m(pid=98103)\u001b[0m Instructions for updating:\n",
      "\u001b[2m\u001b[36m(pid=98103)\u001b[0m Use tf.cast instead.\n",
      "\u001b[2m\u001b[36m(pid=98103)\u001b[0m /Users/yitianzou/anaconda3/lib/python3.7/site-packages/tensorflow/python/ops/gradients_impl.py:110: UserWarning: Converting sparse IndexedSlices to a dense Tensor of unknown shape. This may consume a large amount of memory.\n",
      "\u001b[2m\u001b[36m(pid=98103)\u001b[0m   \"Converting sparse IndexedSlices to a dense Tensor of unknown shape. \"\n",
      "\u001b[2m\u001b[36m(pid=98104)\u001b[0m WARNING:tensorflow:From /Users/yitianzou/anaconda3/lib/python3.7/site-packages/tensorflow/python/ops/math_grad.py:102: div (from tensorflow.python.ops.math_ops) is deprecated and will be removed in a future version.\n",
      "\u001b[2m\u001b[36m(pid=98104)\u001b[0m Instructions for updating:\n",
      "\u001b[2m\u001b[36m(pid=98104)\u001b[0m Deprecated in favor of operator or tf.math.divide.\n",
      "\u001b[2m\u001b[36m(pid=98103)\u001b[0m WARNING:tensorflow:From /Users/yitianzou/anaconda3/lib/python3.7/site-packages/tensorflow/python/ops/math_grad.py:102: div (from tensorflow.python.ops.math_ops) is deprecated and will be removed in a future version.\n",
      "\u001b[2m\u001b[36m(pid=98103)\u001b[0m Instructions for updating:\n",
      "\u001b[2m\u001b[36m(pid=98103)\u001b[0m Deprecated in favor of operator or tf.math.divide.\n",
      "\u001b[2m\u001b[36m(pid=98102)\u001b[0m WARNING:tensorflow:From /Users/yitianzou/anaconda3/lib/python3.7/site-packages/tensorflow/python/ops/math_grad.py:102: div (from tensorflow.python.ops.math_ops) is deprecated and will be removed in a future version.\n",
      "\u001b[2m\u001b[36m(pid=98102)\u001b[0m Instructions for updating:\n",
      "\u001b[2m\u001b[36m(pid=98102)\u001b[0m Deprecated in favor of operator or tf.math.divide.\n"
     ]
    },
    {
     "name": "stderr",
     "output_type": "stream",
     "text": [
      "2019-03-30 10:04:12,084\tINFO policy_evaluator.py:275 -- Creating policy evaluation worker 0 on CPU (please ignore any CUDA init errors)\n",
      "2019-03-30 10:04:13,097\tINFO multi_gpu_optimizer.py:74 -- LocalMultiGPUOptimizer devices ['/cpu:0']\n"
     ]
    },
    {
     "name": "stdout",
     "output_type": "stream",
     "text": [
      "\u001b[2m\u001b[36m(pid=98098)\u001b[0m 2019-03-30 10:04:14,574\tINFO policy_evaluator.py:275 -- Creating policy evaluation worker 1 on CPU (please ignore any CUDA init errors)\n",
      "\u001b[2m\u001b[36m(pid=98098)\u001b[0m 2019-03-30 10:04:14.576373: I tensorflow/core/platform/cpu_feature_guard.cc:141] Your CPU supports instructions that this TensorFlow binary was not compiled to use: AVX2 FMA\n",
      "\u001b[2m\u001b[36m(pid=98099)\u001b[0m 2019-03-30 10:04:14,573\tINFO policy_evaluator.py:275 -- Creating policy evaluation worker 3 on CPU (please ignore any CUDA init errors)\n",
      "\u001b[2m\u001b[36m(pid=98099)\u001b[0m 2019-03-30 10:04:14.573995: I tensorflow/core/platform/cpu_feature_guard.cc:141] Your CPU supports instructions that this TensorFlow binary was not compiled to use: AVX2 FMA\n",
      "\u001b[2m\u001b[36m(pid=98099)\u001b[0m WARNING:tensorflow:From /Users/yitianzou/anaconda3/lib/python3.7/site-packages/tensorflow/python/framework/op_def_library.py:263: colocate_with (from tensorflow.python.framework.ops) is deprecated and will be removed in a future version.\n",
      "\u001b[2m\u001b[36m(pid=98099)\u001b[0m Instructions for updating:\n",
      "\u001b[2m\u001b[36m(pid=98099)\u001b[0m Colocations handled automatically by placer.\n",
      "\u001b[2m\u001b[36m(pid=98108)\u001b[0m 2019-03-30 10:04:14,573\tINFO policy_evaluator.py:275 -- Creating policy evaluation worker 2 on CPU (please ignore any CUDA init errors)\n",
      "\u001b[2m\u001b[36m(pid=98108)\u001b[0m 2019-03-30 10:04:14.574183: I tensorflow/core/platform/cpu_feature_guard.cc:141] Your CPU supports instructions that this TensorFlow binary was not compiled to use: AVX2 FMA\n",
      "\u001b[2m\u001b[36m(pid=98108)\u001b[0m WARNING:tensorflow:From /Users/yitianzou/anaconda3/lib/python3.7/site-packages/tensorflow/python/framework/op_def_library.py:263: colocate_with (from tensorflow.python.framework.ops) is deprecated and will be removed in a future version.\n",
      "\u001b[2m\u001b[36m(pid=98108)\u001b[0m Instructions for updating:\n",
      "\u001b[2m\u001b[36m(pid=98108)\u001b[0m Colocations handled automatically by placer.\n",
      "\u001b[2m\u001b[36m(pid=98098)\u001b[0m WARNING:tensorflow:From /Users/yitianzou/anaconda3/lib/python3.7/site-packages/tensorflow/python/framework/op_def_library.py:263: colocate_with (from tensorflow.python.framework.ops) is deprecated and will be removed in a future version.\n",
      "\u001b[2m\u001b[36m(pid=98098)\u001b[0m Instructions for updating:\n",
      "\u001b[2m\u001b[36m(pid=98098)\u001b[0m Colocations handled automatically by placer.\n",
      "\u001b[2m\u001b[36m(pid=98098)\u001b[0m WARNING:tensorflow:From /Users/yitianzou/anaconda3/lib/python3.7/site-packages/ray/rllib/models/action_dist.py:114: multinomial (from tensorflow.python.ops.random_ops) is deprecated and will be removed in a future version.\n",
      "\u001b[2m\u001b[36m(pid=98098)\u001b[0m Instructions for updating:\n",
      "\u001b[2m\u001b[36m(pid=98098)\u001b[0m Use tf.random.categorical instead.\n",
      "\u001b[2m\u001b[36m(pid=98099)\u001b[0m WARNING:tensorflow:From /Users/yitianzou/anaconda3/lib/python3.7/site-packages/ray/rllib/models/action_dist.py:114: multinomial (from tensorflow.python.ops.random_ops) is deprecated and will be removed in a future version.\n",
      "\u001b[2m\u001b[36m(pid=98099)\u001b[0m Instructions for updating:\n",
      "\u001b[2m\u001b[36m(pid=98099)\u001b[0m Use tf.random.categorical instead.\n",
      "\u001b[2m\u001b[36m(pid=98108)\u001b[0m WARNING:tensorflow:From /Users/yitianzou/anaconda3/lib/python3.7/site-packages/ray/rllib/models/action_dist.py:114: multinomial (from tensorflow.python.ops.random_ops) is deprecated and will be removed in a future version.\n",
      "\u001b[2m\u001b[36m(pid=98108)\u001b[0m Instructions for updating:\n",
      "\u001b[2m\u001b[36m(pid=98108)\u001b[0m Use tf.random.categorical instead.\n",
      "\u001b[2m\u001b[36m(pid=98098)\u001b[0m WARNING:tensorflow:From /Users/yitianzou/anaconda3/lib/python3.7/site-packages/tensorflow/python/ops/array_grad.py:425: to_int32 (from tensorflow.python.ops.math_ops) is deprecated and will be removed in a future version.\n",
      "\u001b[2m\u001b[36m(pid=98098)\u001b[0m Instructions for updating:\n",
      "\u001b[2m\u001b[36m(pid=98098)\u001b[0m Use tf.cast instead.\n",
      "\u001b[2m\u001b[36m(pid=98098)\u001b[0m /Users/yitianzou/anaconda3/lib/python3.7/site-packages/tensorflow/python/ops/gradients_impl.py:110: UserWarning: Converting sparse IndexedSlices to a dense Tensor of unknown shape. This may consume a large amount of memory.\n",
      "\u001b[2m\u001b[36m(pid=98098)\u001b[0m   \"Converting sparse IndexedSlices to a dense Tensor of unknown shape. \"\n",
      "\u001b[2m\u001b[36m(pid=98099)\u001b[0m WARNING:tensorflow:From /Users/yitianzou/anaconda3/lib/python3.7/site-packages/tensorflow/python/ops/array_grad.py:425: to_int32 (from tensorflow.python.ops.math_ops) is deprecated and will be removed in a future version.\n",
      "\u001b[2m\u001b[36m(pid=98099)\u001b[0m Instructions for updating:\n",
      "\u001b[2m\u001b[36m(pid=98099)\u001b[0m Use tf.cast instead.\n",
      "\u001b[2m\u001b[36m(pid=98099)\u001b[0m /Users/yitianzou/anaconda3/lib/python3.7/site-packages/tensorflow/python/ops/gradients_impl.py:110: UserWarning: Converting sparse IndexedSlices to a dense Tensor of unknown shape. This may consume a large amount of memory.\n",
      "\u001b[2m\u001b[36m(pid=98099)\u001b[0m   \"Converting sparse IndexedSlices to a dense Tensor of unknown shape. \"\n",
      "\u001b[2m\u001b[36m(pid=98108)\u001b[0m WARNING:tensorflow:From /Users/yitianzou/anaconda3/lib/python3.7/site-packages/tensorflow/python/ops/array_grad.py:425: to_int32 (from tensorflow.python.ops.math_ops) is deprecated and will be removed in a future version.\n",
      "\u001b[2m\u001b[36m(pid=98108)\u001b[0m Instructions for updating:\n",
      "\u001b[2m\u001b[36m(pid=98108)\u001b[0m Use tf.cast instead.\n",
      "\u001b[2m\u001b[36m(pid=98108)\u001b[0m /Users/yitianzou/anaconda3/lib/python3.7/site-packages/tensorflow/python/ops/gradients_impl.py:110: UserWarning: Converting sparse IndexedSlices to a dense Tensor of unknown shape. This may consume a large amount of memory.\n",
      "\u001b[2m\u001b[36m(pid=98108)\u001b[0m   \"Converting sparse IndexedSlices to a dense Tensor of unknown shape. \"\n",
      "\u001b[2m\u001b[36m(pid=98098)\u001b[0m WARNING:tensorflow:From /Users/yitianzou/anaconda3/lib/python3.7/site-packages/tensorflow/python/ops/math_grad.py:102: div (from tensorflow.python.ops.math_ops) is deprecated and will be removed in a future version.\n",
      "\u001b[2m\u001b[36m(pid=98098)\u001b[0m Instructions for updating:\n",
      "\u001b[2m\u001b[36m(pid=98098)\u001b[0m Deprecated in favor of operator or tf.math.divide.\n",
      "\u001b[2m\u001b[36m(pid=98099)\u001b[0m WARNING:tensorflow:From /Users/yitianzou/anaconda3/lib/python3.7/site-packages/tensorflow/python/ops/math_grad.py:102: div (from tensorflow.python.ops.math_ops) is deprecated and will be removed in a future version.\n",
      "\u001b[2m\u001b[36m(pid=98099)\u001b[0m Instructions for updating:\n",
      "\u001b[2m\u001b[36m(pid=98099)\u001b[0m Deprecated in favor of operator or tf.math.divide.\n",
      "\u001b[2m\u001b[36m(pid=98108)\u001b[0m WARNING:tensorflow:From /Users/yitianzou/anaconda3/lib/python3.7/site-packages/tensorflow/python/ops/math_grad.py:102: div (from tensorflow.python.ops.math_ops) is deprecated and will be removed in a future version.\n",
      "\u001b[2m\u001b[36m(pid=98108)\u001b[0m Instructions for updating:\n",
      "\u001b[2m\u001b[36m(pid=98108)\u001b[0m Deprecated in favor of operator or tf.math.divide.\n"
     ]
    },
    {
     "name": "stderr",
     "output_type": "stream",
     "text": [
      "2019-03-30 10:04:16,722\tINFO policy_evaluator.py:275 -- Creating policy evaluation worker 0 on CPU (please ignore any CUDA init errors)\n",
      "2019-03-30 10:04:17,849\tINFO multi_gpu_optimizer.py:74 -- LocalMultiGPUOptimizer devices ['/cpu:0']\n"
     ]
    },
    {
     "name": "stdout",
     "output_type": "stream",
     "text": [
      "\u001b[2m\u001b[36m(pid=98109)\u001b[0m 2019-03-30 10:04:19,284\tINFO policy_evaluator.py:275 -- Creating policy evaluation worker 1 on CPU (please ignore any CUDA init errors)\n",
      "\u001b[2m\u001b[36m(pid=98109)\u001b[0m 2019-03-30 10:04:19.285397: I tensorflow/core/platform/cpu_feature_guard.cc:141] Your CPU supports instructions that this TensorFlow binary was not compiled to use: AVX2 FMA\n",
      "\u001b[2m\u001b[36m(pid=98109)\u001b[0m WARNING:tensorflow:From /Users/yitianzou/anaconda3/lib/python3.7/site-packages/tensorflow/python/framework/op_def_library.py:263: colocate_with (from tensorflow.python.framework.ops) is deprecated and will be removed in a future version.\n",
      "\u001b[2m\u001b[36m(pid=98109)\u001b[0m Instructions for updating:\n",
      "\u001b[2m\u001b[36m(pid=98109)\u001b[0m Colocations handled automatically by placer.\n",
      "\u001b[2m\u001b[36m(pid=98107)\u001b[0m 2019-03-30 10:04:19,311\tINFO policy_evaluator.py:275 -- Creating policy evaluation worker 2 on CPU (please ignore any CUDA init errors)\n",
      "\u001b[2m\u001b[36m(pid=98107)\u001b[0m 2019-03-30 10:04:19.313001: I tensorflow/core/platform/cpu_feature_guard.cc:141] Your CPU supports instructions that this TensorFlow binary was not compiled to use: AVX2 FMA\n",
      "\u001b[2m\u001b[36m(pid=98105)\u001b[0m 2019-03-30 10:04:19,320\tINFO policy_evaluator.py:275 -- Creating policy evaluation worker 3 on CPU (please ignore any CUDA init errors)\n",
      "\u001b[2m\u001b[36m(pid=98105)\u001b[0m 2019-03-30 10:04:19.321945: I tensorflow/core/platform/cpu_feature_guard.cc:141] Your CPU supports instructions that this TensorFlow binary was not compiled to use: AVX2 FMA\n",
      "\u001b[2m\u001b[36m(pid=98105)\u001b[0m WARNING:tensorflow:From /Users/yitianzou/anaconda3/lib/python3.7/site-packages/tensorflow/python/framework/op_def_library.py:263: colocate_with (from tensorflow.python.framework.ops) is deprecated and will be removed in a future version.\n",
      "\u001b[2m\u001b[36m(pid=98105)\u001b[0m Instructions for updating:\n",
      "\u001b[2m\u001b[36m(pid=98105)\u001b[0m Colocations handled automatically by placer.\n",
      "\u001b[2m\u001b[36m(pid=98109)\u001b[0m WARNING:tensorflow:From /Users/yitianzou/anaconda3/lib/python3.7/site-packages/ray/rllib/models/action_dist.py:114: multinomial (from tensorflow.python.ops.random_ops) is deprecated and will be removed in a future version.\n",
      "\u001b[2m\u001b[36m(pid=98109)\u001b[0m Instructions for updating:\n",
      "\u001b[2m\u001b[36m(pid=98109)\u001b[0m Use tf.random.categorical instead.\n",
      "\u001b[2m\u001b[36m(pid=98107)\u001b[0m WARNING:tensorflow:From /Users/yitianzou/anaconda3/lib/python3.7/site-packages/tensorflow/python/framework/op_def_library.py:263: colocate_with (from tensorflow.python.framework.ops) is deprecated and will be removed in a future version.\n",
      "\u001b[2m\u001b[36m(pid=98107)\u001b[0m Instructions for updating:\n",
      "\u001b[2m\u001b[36m(pid=98107)\u001b[0m Colocations handled automatically by placer.\n",
      "\u001b[2m\u001b[36m(pid=98105)\u001b[0m WARNING:tensorflow:From /Users/yitianzou/anaconda3/lib/python3.7/site-packages/ray/rllib/models/action_dist.py:114: multinomial (from tensorflow.python.ops.random_ops) is deprecated and will be removed in a future version.\n",
      "\u001b[2m\u001b[36m(pid=98105)\u001b[0m Instructions for updating:\n",
      "\u001b[2m\u001b[36m(pid=98105)\u001b[0m Use tf.random.categorical instead.\n",
      "\u001b[2m\u001b[36m(pid=98107)\u001b[0m WARNING:tensorflow:From /Users/yitianzou/anaconda3/lib/python3.7/site-packages/ray/rllib/models/action_dist.py:114: multinomial (from tensorflow.python.ops.random_ops) is deprecated and will be removed in a future version.\n",
      "\u001b[2m\u001b[36m(pid=98107)\u001b[0m Instructions for updating:\n",
      "\u001b[2m\u001b[36m(pid=98107)\u001b[0m Use tf.random.categorical instead.\n",
      "\u001b[2m\u001b[36m(pid=98109)\u001b[0m WARNING:tensorflow:From /Users/yitianzou/anaconda3/lib/python3.7/site-packages/tensorflow/python/ops/array_grad.py:425: to_int32 (from tensorflow.python.ops.math_ops) is deprecated and will be removed in a future version.\n",
      "\u001b[2m\u001b[36m(pid=98109)\u001b[0m Instructions for updating:\n",
      "\u001b[2m\u001b[36m(pid=98109)\u001b[0m Use tf.cast instead.\n",
      "\u001b[2m\u001b[36m(pid=98109)\u001b[0m /Users/yitianzou/anaconda3/lib/python3.7/site-packages/tensorflow/python/ops/gradients_impl.py:110: UserWarning: Converting sparse IndexedSlices to a dense Tensor of unknown shape. This may consume a large amount of memory.\n",
      "\u001b[2m\u001b[36m(pid=98109)\u001b[0m   \"Converting sparse IndexedSlices to a dense Tensor of unknown shape. \"\n",
      "\u001b[2m\u001b[36m(pid=98107)\u001b[0m WARNING:tensorflow:From /Users/yitianzou/anaconda3/lib/python3.7/site-packages/tensorflow/python/ops/array_grad.py:425: to_int32 (from tensorflow.python.ops.math_ops) is deprecated and will be removed in a future version.\n",
      "\u001b[2m\u001b[36m(pid=98107)\u001b[0m Instructions for updating:\n",
      "\u001b[2m\u001b[36m(pid=98107)\u001b[0m Use tf.cast instead.\n",
      "\u001b[2m\u001b[36m(pid=98105)\u001b[0m WARNING:tensorflow:From /Users/yitianzou/anaconda3/lib/python3.7/site-packages/tensorflow/python/ops/array_grad.py:425: to_int32 (from tensorflow.python.ops.math_ops) is deprecated and will be removed in a future version.\n",
      "\u001b[2m\u001b[36m(pid=98105)\u001b[0m Instructions for updating:\n",
      "\u001b[2m\u001b[36m(pid=98105)\u001b[0m Use tf.cast instead.\n",
      "\u001b[2m\u001b[36m(pid=98105)\u001b[0m /Users/yitianzou/anaconda3/lib/python3.7/site-packages/tensorflow/python/ops/gradients_impl.py:110: UserWarning: Converting sparse IndexedSlices to a dense Tensor of unknown shape. This may consume a large amount of memory.\n",
      "\u001b[2m\u001b[36m(pid=98105)\u001b[0m   \"Converting sparse IndexedSlices to a dense Tensor of unknown shape. \"\n",
      "\u001b[2m\u001b[36m(pid=98107)\u001b[0m /Users/yitianzou/anaconda3/lib/python3.7/site-packages/tensorflow/python/ops/gradients_impl.py:110: UserWarning: Converting sparse IndexedSlices to a dense Tensor of unknown shape. This may consume a large amount of memory.\n",
      "\u001b[2m\u001b[36m(pid=98107)\u001b[0m   \"Converting sparse IndexedSlices to a dense Tensor of unknown shape. \"\n",
      "\u001b[2m\u001b[36m(pid=98105)\u001b[0m WARNING:tensorflow:From /Users/yitianzou/anaconda3/lib/python3.7/site-packages/tensorflow/python/ops/math_grad.py:102: div (from tensorflow.python.ops.math_ops) is deprecated and will be removed in a future version.\n",
      "\u001b[2m\u001b[36m(pid=98105)\u001b[0m Instructions for updating:\n",
      "\u001b[2m\u001b[36m(pid=98105)\u001b[0m Deprecated in favor of operator or tf.math.divide.\n",
      "\u001b[2m\u001b[36m(pid=98109)\u001b[0m WARNING:tensorflow:From /Users/yitianzou/anaconda3/lib/python3.7/site-packages/tensorflow/python/ops/math_grad.py:102: div (from tensorflow.python.ops.math_ops) is deprecated and will be removed in a future version.\n",
      "\u001b[2m\u001b[36m(pid=98109)\u001b[0m Instructions for updating:\n",
      "\u001b[2m\u001b[36m(pid=98109)\u001b[0m Deprecated in favor of operator or tf.math.divide.\n",
      "\u001b[2m\u001b[36m(pid=98107)\u001b[0m WARNING:tensorflow:From /Users/yitianzou/anaconda3/lib/python3.7/site-packages/tensorflow/python/ops/math_grad.py:102: div (from tensorflow.python.ops.math_ops) is deprecated and will be removed in a future version.\n",
      "\u001b[2m\u001b[36m(pid=98107)\u001b[0m Instructions for updating:\n",
      "\u001b[2m\u001b[36m(pid=98107)\u001b[0m Deprecated in favor of operator or tf.math.divide.\n"
     ]
    },
    {
     "name": "stderr",
     "output_type": "stream",
     "text": [
      "2019-03-30 10:04:21,390\tINFO policy_evaluator.py:275 -- Creating policy evaluation worker 0 on CPU (please ignore any CUDA init errors)\n",
      "2019-03-30 10:04:22,533\tINFO multi_gpu_optimizer.py:74 -- LocalMultiGPUOptimizer devices ['/cpu:0']\n"
     ]
    }
   ],
   "source": [
    "# directory = \"/Users/yitianzou/ray_results/neurocuts_None/PPO_tree_env_0_2019-03-08_23-48-42pb2k3nsd\"\n",
    "# directory = \"/Users/yitianzou/ray_results/neurocuts_None/PPO_tree_env_0_2019-03-20_20-38-09ixikyqq8/\"\n",
    "directory = \"/Users/yitianzou/ray_results/neurocuts_None/PPO_tree_env_0_2019-03-27_16-29-19mwsnjoc7\"\n",
    "env = NeuroCutsEnv(rules_file=rules)\n",
    "\n",
    "agent_1 = PPOAgent(env=\"tree_env\", config=config)\n",
    "agent_1.restore(directory+\"/checkpoint_1/checkpoint-1\")\n",
    "agent_1M = PPOAgent(env=\"tree_env\", config=config)\n",
    "agent_1M.restore(directory+\"/checkpoint_23/checkpoint-23\")\n",
    "agent_2M = PPOAgent(env=\"tree_env\", config=config)\n",
    "agent_2M.restore(directory+\"/checkpoint_54/checkpoint-54\")\n",
    "agent_4M = PPOAgent(env=\"tree_env\", config=config)\n",
    "agent_4M.restore(directory+\"/checkpoint_136/checkpoint-136\")\n",
    "agent_8M = PPOAgent(env=\"tree_env\", config=config)\n",
    "agent_8M.restore(directory+\"/checkpoint_318/checkpoint-318\")"
   ]
  },
  {
   "cell_type": "code",
   "execution_count": 10,
   "metadata": {},
   "outputs": [
    {
     "name": "stderr",
     "output_type": "stream",
     "text": [
      "IOPub data rate exceeded.\n",
      "The notebook server will temporarily stop sending output\n",
      "to the client in order to avoid crashing it.\n",
      "To change this limit, set the config variable\n",
      "`--NotebookApp.iopub_data_rate_limit`.\n",
      "\n",
      "Current values:\n",
      "NotebookApp.iopub_data_rate_limit=1000000.0 (bytes/sec)\n",
      "NotebookApp.rate_limit_window=3.0 (secs)\n",
      "\n"
     ]
    }
   ],
   "source": [
    "#meta = directory + \"/checkpoint_318/checkpoint-318.tune_metadata\"\n",
    "meta = file\n",
    "with open(meta, 'rb') as f:\n",
    "    text = pickle.load(f)\n",
    "print(text)"
   ]
  },
  {
   "cell_type": "markdown",
   "metadata": {},
   "source": [
    "## TODOS\n",
    "1. Verify that after num-fast # iterations, reward (memory_access) has converged to around 10 - DONE\n",
    "2. Generate distribution of (src, dst) - DONE\n",
    "3. Make contour for 1st checkpoint - DONE\n",
    "4. Vectorize _value - DONE\n",
    "5. Get checkpoints + run for different ones - DONE\n",
    "6. Try different initializations of other bits in real_obs\n",
    "7. Random vector projection?"
   ]
  },
  {
   "cell_type": "markdown",
   "metadata": {},
   "source": [
    "### Fix\n",
    "\n",
    "Construct Rule(id=0, ranges=[src_ip_start, src_ip_end, dst_ip_start, dst_ip_end, src_port_start, src_port_end, dst_port_start, dst_port_end, proto_start, proto_end])\n",
    "\n",
    "Call rule.get_state()"
   ]
  },
  {
   "cell_type": "code",
   "execution_count": 35,
   "metadata": {},
   "outputs": [
    {
     "name": "stdout",
     "output_type": "stream",
     "text": [
      "933\n",
      "268435456\n"
     ]
    },
    {
     "data": {
      "text/plain": [
       "<matplotlib.collections.PathCollection at 0x7f1d2c3d9490>"
      ]
     },
     "execution_count": 35,
     "metadata": {},
     "output_type": "execute_result"
    },
    {
     "data": {
      "image/png": "[encoded data removed]",
      "text/plain": [
       "<Figure size 432x288 with 1 Axes>"
      ]
     },
     "metadata": {
      "needs_background": "light"
     },
     "output_type": "display_data"
    }
   ],
   "source": [
    "rules = load_rules_from_file(\"neurocuts-master/classbench/acl5_1k\")\n",
    "X = np.arange(0, 2**32, 2**28)\n",
    "Y = np.arange(0, 2**32, 2**28)\n",
    "N = len(X)\n",
    "r = rules[0]\n",
    "print(len(rules))\n",
    "print(X[1])\n",
    "#print(rules[0].ranges)\n",
    "# print(rules[100].ranges)\n",
    "# print(rules[200].ranges)\n",
    "# print(rules[300].ranges)\n",
    "# print(rules[400].ranges)\n",
    "# for i in range(N - 1):\n",
    "#     for j in range(N - 1):\n",
    "#         src_ip_range = [X[i], X[i + 1]]\n",
    "#         dst_ip_range = [Y[i], Y[i + 1]]\n",
    "#         if src_ip_range[0] < r.ranges[0] < src_ip_\n",
    "\n",
    "x_pts = [r.ranges[0], r.ranges[1]]\n",
    "y_pts = [r.ranges[2], r.ranges[3]]\n",
    "plt.scatter(x_pts, y_pts)"
   ]
  },
  {
   "cell_type": "code",
   "execution_count": 36,
   "metadata": {},
   "outputs": [],
   "source": [
    "def intersect(sx1, sx2, sy1, sy2, ox1, ox2, oy1, oy2):\n",
    "    return (sx1 < ox2 and sx2 > ox1) and (sy1 < oy2 and sy2 > oy1)"
   ]
  },
  {
   "cell_type": "code",
   "execution_count": 37,
   "metadata": {},
   "outputs": [
    {
     "name": "stdout",
     "output_type": "stream",
     "text": [
      "33554432\n",
      "128\n",
      "268435456\n"
     ]
    }
   ],
   "source": [
    "src_diff = [r.ranges[1] - r.ranges[0] for r in rules]\n",
    "dst_diff = [r.ranges[3] - r.ranges[2] for r in rules]\n",
    "print(max(src_diff))\n",
    "print(max(dst_diff))\n",
    "print(2**28)"
   ]
  },
  {
   "cell_type": "code",
   "execution_count": 28,
   "metadata": {},
   "outputs": [
    {
     "name": "stdout",
     "output_type": "stream",
     "text": [
      "[[449.   0.   0.   0.   0.   0.   0.   0.  98.   0.   0.   0.   0.   0.\n",
      "    0.]\n",
      " [  0.   0.   0.   0.   0.   0.   0.   0.   0.   0.   0.   0.   0.   0.\n",
      "    0.]\n",
      " [  0.   0.   0.   0.   0.   0.   0.   0.   0.   0.   0.   0.   0.   0.\n",
      "    0.]\n",
      " [  0.   0.   0.   0.   0.   0.   0.   0.   0.   0.   0.   0.   0.   0.\n",
      "    0.]\n",
      " [  0.   0.   0.   0.   0.   0.   0.   0.   0.   0.   0.   0.   0.   0.\n",
      "    0.]\n",
      " [  0.   0.   0.   0.   0.   0.   0.   0.   0.   0.   0.   0.   0.   0.\n",
      "    0.]\n",
      " [  0.   0.   0.   0.   0.   0.  74.   0.  13.   0.   0.   0.   0.   0.\n",
      "    0.]\n",
      " [  0.   0.   0.   0.   0.   0.   0. 116.  34.   0.   0.   0.   0.   0.\n",
      "    0.]\n",
      " [ 10.   0.   0.   0.   0.   0.   0.   0.  49.   0.   0.   0.   0.   0.\n",
      "    0.]\n",
      " [  6.   0.   0.   0.   0.   0.   0.   0.   0.  26.   0.   0.   0.   0.\n",
      "    0.]\n",
      " [  2.   0.   0.   0.   0.   0.   0.   0.   0.   0.   6.   0.   0.   0.\n",
      "    0.]\n",
      " [  2.   0.   0.   0.   0.   0.   0.   0.   0.   0.   0.   3.   0.   0.\n",
      "    0.]\n",
      " [  2.   0.   0.   0.   0.   0.   0.   0.   0.   0.   0.   0.  12.   0.\n",
      "    0.]\n",
      " [  6.   0.   0.   0.   0.   0.   0.   0.   0.   0.   0.   0.   0.  19.\n",
      "    0.]\n",
      " [  2.   0.   0.   0.   0.   0.   0.   0.   0.   0.   0.   0.   0.   0.\n",
      "    1.]]\n"
     ]
    }
   ],
   "source": [
    "num_rules = np.zeros((N-1, N-1))\n",
    "for r in rules:\n",
    "    for i in range(N-1):\n",
    "        for j in range(N-1):\n",
    "            if intersect(r.ranges[0], r.ranges[1], r.ranges[2], r.ranges[3], X[i], X[i+1], Y[j], Y[j+1]):\n",
    "                num_rules[i, j] += 1\n",
    "\n",
    "print(num_rules)"
   ]
  },
  {
   "cell_type": "code",
   "execution_count": 38,
   "metadata": {},
   "outputs": [
    {
     "name": "stdout",
     "output_type": "stream",
     "text": [
      "[0.0, 0.0, 0.0, 0.0, 0.0, 0.0, 0.0, 0.0, 0.0, 0.0, 0.0, 0.0, 0.0, 0.0, 0.0, 0.0, 0.0, 0.0, 0.0, 0.0, 0.0, 0.0, 0.0, 1.0, 0.0, 0.0, 0.0, 0.0, 0.0, 0.0, 0.0, 1.0]\n",
      "257\n",
      "[0.0, 0.0, 0.0, 0.0, 0.0, 0.0, 0.0, 0.0, 0.0, 0.0, 0.0, 0.0, 0.0, 0.0, 0.0, 0.0, 0.0, 0.0, 0.0, 0.0, 0.0, 0.0, 0.0, 1.0, 0.0, 0.0, 0.0, 0.0, 0.0, 0.0, 0.0, 1.0]\n"
     ]
    }
   ],
   "source": [
    "def make_binary_list(num):\n",
    "    b = \"{0:b}\".format(int(num))\n",
    "    lst = [float(d) for d in b]\n",
    "    diff = 32 - len(lst)\n",
    "    lst = [0.0]*diff + lst\n",
    "    return lst\n",
    "def make_dec(ip):\n",
    "    ip_str = ''.join(str(int(e)) for e in ip)\n",
    "    ip_dec = int(ip_str, 2)\n",
    "    return ip_dec\n",
    "i = 2**8 + 1\n",
    "b = make_binary_list(i)\n",
    "print(b)\n",
    "print(make_dec(b))\n",
    "b = list(bin(int(i))[2:])\n",
    "l = [0.0] * (32 - len(b)) + [float(i) for i in b]\n",
    "print(l)"
   ]
  },
  {
   "cell_type": "code",
   "execution_count": 39,
   "metadata": {},
   "outputs": [],
   "source": [
    "### Get values ###\n",
    "def value(policy, obs):\n",
    "    feed_dict = {\n",
    "       policy.observations: obs,\n",
    "    }\n",
    "    vf = policy.sess.run(policy.value_function, feed_dict)\n",
    "    return vf\n",
    "\n",
    "# values_lst = value(agent.get_policy(), obs_lst)\n",
    "# values = values_lst.reshape((N, N))\n",
    "# print(values[30][30])"
   ]
  },
  {
   "cell_type": "code",
   "execution_count": null,
   "metadata": {},
   "outputs": [],
   "source": []
  },
  {
   "cell_type": "code",
   "execution_count": 40,
   "metadata": {},
   "outputs": [],
   "source": [
    "def generate_obs_and_vals(agent):\n",
    "    max_ip = 2**32\n",
    "    max_port = 2**16\n",
    "    max_proto = 2**8\n",
    "    interval = 2**28\n",
    "    X = np.arange(0, max_ip, interval)\n",
    "    Y = np.arange(0, max_ip, interval)\n",
    "    N = len(X)\n",
    "    obs_lst = []\n",
    "\n",
    "    for i in range(N-1): \n",
    "        for j in range(N-1):\n",
    "#             [src_ip_start, src_ip_end, dst_ip_start, dst_ip_end, src_port_start, src_port_end, dst_port_start, dst_port_end, proto_start, proto_end]\n",
    "#             src = make_binary_list(X[i])\n",
    "#             dst = make_binary_list(Y[j])\n",
    "#             size = 279 - 64\n",
    "#             if mask is None:\n",
    "#                 mask = [0.0] * size\n",
    "#             real_obs = src + dst + mask\n",
    "            ranges = [X[i], X[i+1], Y[j], Y[j+1], 0, max_port, 0, max_port, 0, 2**8]\n",
    "            node = Node(0, ranges, [], 0, None, None)\n",
    "            real_obs = node.get_state()\n",
    "            action_mask = [0.0] * 10\n",
    "            obs = {\"real_obs\": real_obs, \"action_mask\": action_mask}\n",
    "            _obs = agent.local_evaluator.preprocessors[\"default\"].transform(obs)\n",
    "            obs_lst.append(_obs)\n",
    "#     print(obs_lst)\n",
    "    values_lst = value(agent.get_policy(), obs_lst)\n",
    "    values = values_lst.reshape((N-1, N-1))\n",
    "    return X, Y, values"
   ]
  },
  {
   "cell_type": "code",
   "execution_count": 53,
   "metadata": {},
   "outputs": [
    {
     "data": {
      "image/png": "[encoded data removed]",
      "text/plain": [
       "<Figure size 432x288 with 1 Axes>"
      ]
     },
     "metadata": {
      "needs_background": "light"
     },
     "output_type": "display_data"
    },
    {
     "data": {
      "image/png": "[encoded data removed]",
      "text/plain": [
       "<Figure size 432x288 with 1 Axes>"
      ]
     },
     "metadata": {
      "needs_background": "light"
     },
     "output_type": "display_data"
    },
    {
     "data": {
      "image/png": "[encoded data removed]",
      "text/plain": [
       "<Figure size 432x288 with 1 Axes>"
      ]
     },
     "metadata": {
      "needs_background": "light"
     },
     "output_type": "display_data"
    },
    {
     "data": {
      "image/png": "[encoded data removed]",
      "text/plain": [
       "<Figure size 432x288 with 1 Axes>"
      ]
     },
     "metadata": {
      "needs_background": "light"
     },
     "output_type": "display_data"
    },
    {
     "data": {
      "image/png": "[encoded data removed]",
      "text/plain": [
       "<Figure size 432x288 with 1 Axes>"
      ]
     },
     "metadata": {
      "needs_background": "light"
     },
     "output_type": "display_data"
    }
   ],
   "source": [
    "### Visualize ###\n",
    "def visualize(agent, num):\n",
    "    X, Y, values = generate_obs_and_vals(agent)\n",
    "    plt.imshow(values, cmap='hot', interpolation='nearest', origin='lower')\n",
    "#     _X, _Y = np.meshgrid(X, Y)\n",
    "#     plt.contour(_X, _Y, values)\n",
    "    plt.title(\"Timesteps {}\".format(num))\n",
    "    plt.xlabel(\"Dst ip\")\n",
    "    plt.ylabel(\"Src ip\")\n",
    "    plt.show()\n",
    "    \n",
    "visualize(agent_1, \"1\")\n",
    "visualize(agent_1M, \"1M\")\n",
    "visualize(agent_2M, \"2M\")\n",
    "visualize(agent_4M, \"4M\")\n",
    "visualize(agent_8M, \"8M\")\n",
    "# Yellow = high\n",
    "# Green = medium\n",
    "# Blue = low"
   ]
  },
  {
   "cell_type": "code",
   "execution_count": 41,
   "metadata": {},
   "outputs": [
    {
     "data": {
      "text/plain": [
       "<matplotlib.image.AxesImage at 0x7f1d00146f90>"
      ]
     },
     "execution_count": 41,
     "metadata": {},
     "output_type": "execute_result"
    },
    {
     "data": {
      "image/png": "[encoded data removed]",
      "text/plain": [
       "<Figure size 432x288 with 1 Axes>"
      ]
     },
     "metadata": {
      "needs_background": "light"
     },
     "output_type": "display_data"
    }
   ],
   "source": [
    "plt.imshow(num_rules, cmap='hot', interpolation='nearest', origin='lower')"
   ]
  },
  {
   "cell_type": "code",
   "execution_count": null,
   "metadata": {},
   "outputs": [],
   "source": []
  },
  {
   "cell_type": "code",
   "execution_count": null,
   "metadata": {},
   "outputs": [],
   "source": []
  }
 ],
 "metadata": {
  "kernelspec": {
   "display_name": "Python 3",
   "language": "python",
   "name": "python3"
  },
  "language_info": {
   "codemirror_mode": {
    "name": "ipython",
    "version": 3
   },
   "file_extension": ".py",
   "mimetype": "text/x-python",
   "name": "python",
   "nbconvert_exporter": "python",
   "pygments_lexer": "ipython3",
   "version": "3.7.7"
  }
 },
 "nbformat": 4,
 "nbformat_minor": 2
}
